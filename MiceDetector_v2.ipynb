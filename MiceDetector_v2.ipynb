{
 "metadata": {
  "name": "",
  "signature": "sha256:67cf1ad98df1745e80519e04b1d495aaa7bb6895529d62d4aa60b46c47b64a68"
 },
 "nbformat": 3,
 "nbformat_minor": 0,
 "worksheets": [
  {
   "cells": [
    {
     "cell_type": "raw",
     "metadata": {},
     "source": [
      "## THis is a notebook for troubleshooting things\n",
      "\n",
      "1. Will connect to arduino\n",
      "2. Move the servo motor\n",
      "3. Check if RFid works......\n",
      "4. Write to the arduino"
     ]
    },
    {
     "cell_type": "code",
     "collapsed": false,
     "input": [
      "# Define all of my import....\n",
      "import serial\n",
      "import time\n",
      "from keyboard_alike import reader\n",
      "import usb.core\n",
      "import usb.util\n",
      "from multiprocessing import Process\n",
      "from transitions import Machine\n",
      "import timeit\n",
      "from threading import Timer\n",
      "import time"
     ],
     "language": "python",
     "metadata": {},
     "outputs": [],
     "prompt_number": 1
    },
    {
     "cell_type": "code",
     "collapsed": false,
     "input": [
      "Machine?"
     ],
     "language": "python",
     "metadata": {},
     "outputs": [],
     "prompt_number": 18
    },
    {
     "cell_type": "code",
     "collapsed": false,
     "input": [
      "#initialize arduino object\n",
      "arduino1 = serial.Serial('/dev/ttyACM0', 9600)\n",
      "arduino2 = serial.Serial('/dev/ttyACM1', 9600)\n",
      "\n",
      "#initialize RFidReader1\n",
      "\n",
      "#initialize list of RFidReaders connected to computer\n",
      "\n",
      "# #initialize reader1 to the RFidReader at position 0 in device list\n",
      "#reader1.initialize(device[0])\n",
      "#reader2.initialize(device[1])\n",
      "\n",
      "#reader2.initialize(device[1])\n",
      "\n",
      "#initialize open and close gate values\n",
      "openGate = 160\n",
      "closeGate = 70\n",
      "#initialize empty string for RFid value to be stored in\n",
      "code1 = ''\n",
      "code2 = ''\n",
      "code3 = ''\n",
      "\n",
      "#initialize boolean variable to determine which stage a mice is in\n",
      "miceOneIsEntering = True"
     ],
     "language": "python",
     "metadata": {},
     "outputs": [],
     "prompt_number": 2
    },
    {
     "cell_type": "code",
     "collapsed": false,
     "input": [
      "class Mice:\n",
      "    '''Mice class; this class will keep track of which mice is at each stage'''         \n",
      "    # The states\n",
      "    states=['left', 'centerOut', 'right', 'centerIn']\n",
      "\n",
      "    # The transitions\n",
      "    transitions = [\n",
      "        {'trigger': 'leftToCenter', 'source': 'left', 'dest': 'center'},\n",
      "        {'trigger': 'centerToRight', 'source': 'center', 'dest': 'right'},\n",
      "        {'trigger': 'rightToCenter', 'source': 'right', 'dest': 'center'},\n",
      "        {'trigger': 'centerToLeft', 'source': 'center', 'dest': 'left'}\n",
      "    ]\n",
      "    \n",
      "    def __init__(self, code):\n",
      "        self.code = code\n",
      "        \n",
      "        self.machine = Machine(model=self, states=Mice.states, initial='left')\n",
      "        \n",
      "        self.machine.add_transition(trigger = 'leftToCenter', source='left', dest = 'centerOut')\n",
      "        \n",
      "        self.machine.add_transition(trigger = 'centerToRight', source='centerOUt', dest = 'right')\n",
      "        \n",
      "        self.machine.add_transition(trigger = 'rightToCenter', source='right', dest = 'centerIn')\n",
      "        \n",
      "        self.machine.add_transition(trigger = 'centerToLeft', source='centerIn', dest = 'left')\n",
      "        \n",
      "        self.machine.add_ordered_transitions(['left', 'centerOut', 'right', 'centerIn'])\n",
      "        \n",
      "#instantiate mice\n",
      "miceID = [None] * 3\n",
      "miceID[0] = Mice(6164996)\n",
      "miceID[1] = Mice(8657565)\n",
      "miceID[2] = Mice(12919161)\n",
      "\n",
      "miceID[0].leftToCenter()\n",
      "\n",
      "print miceID[0].state"
     ],
     "language": "python",
     "metadata": {},
     "outputs": [
      {
       "output_type": "stream",
       "stream": "stdout",
       "text": [
        "centerOut\n"
       ]
      }
     ],
     "prompt_number": 3
    },
    {
     "cell_type": "code",
     "collapsed": false,
     "input": [
      "def readReader1():\n",
      "    reader1 = reader.Reader(0x16c0, 0x27db, 36, 3, should_reset=False)\n",
      "    device = list(usb.core.find(find_all=True, idVendor=0x16c0, idProduct = 0x27db))\n",
      "    reader1.initialize(device[0])\n",
      "    global code1\n",
      "    code1 = reader1.read()\n",
      "    if code1 != '':\n",
      "        code1 = int(code1)\n",
      "    reader1.disconnect()\n",
      "    return code1\n",
      "\n",
      "def readReader2():\n",
      "    reader2 = reader.Reader(0x16c0, 0x27db, 36, 3, should_reset=False)\n",
      "    device = list(usb.core.find(find_all=True, idVendor=0x16c0, idProduct = 0x27db))\n",
      "    reader2.initialize(device[1])\n",
      "    global code2\n",
      "    code2 = reader2.read()\n",
      "    if code2 != '':\n",
      "        code2 = int(code2)\n",
      "    reader2.disconnect()\n",
      "    return code2\n",
      "\n",
      "def gate1():\n",
      "    arduino1.write(str(openGate))\n",
      "    time.sleep(2)\n",
      "    arduino1.write(str(closeGate))\n",
      "\n",
      "def gate2():\n",
      "    arduino2.write(str(openGate))\n",
      "    time.sleep(2)\n",
      "    arduino2.write(str(closeGate))"
     ],
     "language": "python",
     "metadata": {},
     "outputs": [],
     "prompt_number": 4
    },
    {
     "cell_type": "markdown",
     "metadata": {},
     "source": [
      "## Current state of the code....\n",
      "\n",
      "Currently we have Loaded all of the RFid tags of 3 mice into miceID as a list, and we have the states of all those mice in miceState as a list of PyTransition objects.\n",
      "\n",
      "Now, we want to write code, to start and stop listening on certain RFid readers depending on the current states of all the animals.\n",
      "\n",
      "First thing to do is determine the state that the current paradigm is in.....\n",
      "\n",
      "Note: We have to act on the miceID class instead of on the transition machine object...."
     ]
    },
    {
     "cell_type": "code",
     "collapsed": false,
     "input": [
      "# Variable globalState\n",
      "# Which is 1, 2, 3, or 4 depending on which state you are in\n",
      "globalState = 1\n",
      "\n",
      "while 1:\n",
      "    if globalState == 1:\n",
      "        # Listening to RFid 1\n",
      "        #if MouseAllowed\n",
      "            # do something, \n",
      "            # Open gate\n",
      "            # Close Gate\n",
      "            # Switch to globalState = 2\n",
      "        #else: # Mouse is not allowed...\n",
      "        #    continue\n",
      "        while True: \n",
      "            readReader1() #readReader1() is in a while loop because RF id sensors have a 5 second window to detect keys\n",
      "            if code1 != '': # Break out once we have read a key\n",
      "                break\n",
      "        gate1() # Open Gate\n",
      "        globalState = 2\n",
      "        \n",
      "    elif globalState == 2:\n",
      "        # Listen to RFid 2\n",
      "        # If nothing happens on RFid 2 for >60s that is because mouse is not in center, return to state 1....\n",
      "        # If RFid matches on RFid 2 of mouse in RFid state 1\n",
      "        # Open gate. and proceed to globalState = 3\n",
      "        repeat = 12\n",
      "        while repeat > 0:\n",
      "            readReader2()\n",
      "            if code2 != '':\n",
      "                break\n",
      "            repeat = repeat - 1\n",
      "\n",
      "        if code2 == '':\n",
      "            print 'No mice in the center returning to state 1'\n",
      "            globalState = 1\n",
      "        elif code1 == code2:\n",
      "                gate2()\n",
      "                globalState = 3\n",
      "                print globalState\n",
      "        \n",
      "    elif globalState == 3:\n",
      "        print 'We made it to state 3'\n",
      "        # Stay i global State = 3\n",
      "        # Until you receive signal from behavior box that session is terminated.....\n",
      "        # For troubleshooting puproses, just assume you stay in here for < 900s\n",
      "        #time.sleep(5)\n",
      "        while True:\n",
      "            readReader2()\n",
      "            if code3 != '':\n",
      "                break\n",
      "        gate2()\n",
      "        global state\n",
      "        \n",
      "        pass\n",
      "    elif globalState == 4:\n",
      "        # If RFid 1 matches the mouse that is returning, then open the gate.....\n",
      "        pass\n",
      "    \n",
      "    else:\n",
      "            print 'something is wrong...'"
     ],
     "language": "python",
     "metadata": {},
     "outputs": [
      {
       "output_type": "stream",
       "stream": "stdout",
       "text": [
        "3\n",
        "We made it to state 3\n"
       ]
      },
      {
       "ename": "DeviceException",
       "evalue": "Could not set configuration: [Errno None] Other error",
       "output_type": "pyerr",
       "traceback": [
        "\u001b[0;31m---------------------------------------------------------------------------\u001b[0m\n\u001b[0;31mDeviceException\u001b[0m                           Traceback (most recent call last)",
        "\u001b[0;32m<ipython-input-5-0cc23441e938>\u001b[0m in \u001b[0;36m<module>\u001b[0;34m()\u001b[0m\n\u001b[1;32m     47\u001b[0m         \u001b[0;31m#time.sleep(5)\u001b[0m\u001b[0;34m\u001b[0m\u001b[0;34m\u001b[0m\u001b[0m\n\u001b[1;32m     48\u001b[0m         \u001b[0;32mwhile\u001b[0m \u001b[0mTrue\u001b[0m\u001b[0;34m:\u001b[0m\u001b[0;34m\u001b[0m\u001b[0m\n\u001b[0;32m---> 49\u001b[0;31m             \u001b[0mreadReader2\u001b[0m\u001b[0;34m(\u001b[0m\u001b[0;34m)\u001b[0m\u001b[0;34m\u001b[0m\u001b[0m\n\u001b[0m\u001b[1;32m     50\u001b[0m             \u001b[0;32mif\u001b[0m \u001b[0mcode3\u001b[0m \u001b[0;34m!=\u001b[0m \u001b[0;34m''\u001b[0m\u001b[0;34m:\u001b[0m\u001b[0;34m\u001b[0m\u001b[0m\n\u001b[1;32m     51\u001b[0m                 \u001b[0;32mbreak\u001b[0m\u001b[0;34m\u001b[0m\u001b[0m\n",
        "\u001b[0;32m<ipython-input-4-24d4dfa52d7e>\u001b[0m in \u001b[0;36mreadReader2\u001b[0;34m()\u001b[0m\n\u001b[1;32m     13\u001b[0m     \u001b[0mreader2\u001b[0m \u001b[0;34m=\u001b[0m \u001b[0mreader\u001b[0m\u001b[0;34m.\u001b[0m\u001b[0mReader\u001b[0m\u001b[0;34m(\u001b[0m\u001b[0;36m0x16c0\u001b[0m\u001b[0;34m,\u001b[0m \u001b[0;36m0x27db\u001b[0m\u001b[0;34m,\u001b[0m \u001b[0;36m36\u001b[0m\u001b[0;34m,\u001b[0m \u001b[0;36m3\u001b[0m\u001b[0;34m,\u001b[0m \u001b[0mshould_reset\u001b[0m\u001b[0;34m=\u001b[0m\u001b[0mFalse\u001b[0m\u001b[0;34m)\u001b[0m\u001b[0;34m\u001b[0m\u001b[0m\n\u001b[1;32m     14\u001b[0m     \u001b[0mdevice\u001b[0m \u001b[0;34m=\u001b[0m \u001b[0mlist\u001b[0m\u001b[0;34m(\u001b[0m\u001b[0musb\u001b[0m\u001b[0;34m.\u001b[0m\u001b[0mcore\u001b[0m\u001b[0;34m.\u001b[0m\u001b[0mfind\u001b[0m\u001b[0;34m(\u001b[0m\u001b[0mfind_all\u001b[0m\u001b[0;34m=\u001b[0m\u001b[0mTrue\u001b[0m\u001b[0;34m,\u001b[0m \u001b[0midVendor\u001b[0m\u001b[0;34m=\u001b[0m\u001b[0;36m0x16c0\u001b[0m\u001b[0;34m,\u001b[0m \u001b[0midProduct\u001b[0m \u001b[0;34m=\u001b[0m \u001b[0;36m0x27db\u001b[0m\u001b[0;34m)\u001b[0m\u001b[0;34m)\u001b[0m\u001b[0;34m\u001b[0m\u001b[0m\n\u001b[0;32m---> 15\u001b[0;31m     \u001b[0mreader2\u001b[0m\u001b[0;34m.\u001b[0m\u001b[0minitialize\u001b[0m\u001b[0;34m(\u001b[0m\u001b[0mdevice\u001b[0m\u001b[0;34m[\u001b[0m\u001b[0;36m1\u001b[0m\u001b[0;34m]\u001b[0m\u001b[0;34m)\u001b[0m\u001b[0;34m\u001b[0m\u001b[0m\n\u001b[0m\u001b[1;32m     16\u001b[0m     \u001b[0;32mglobal\u001b[0m \u001b[0mcode2\u001b[0m\u001b[0;34m\u001b[0m\u001b[0m\n\u001b[1;32m     17\u001b[0m     \u001b[0mcode2\u001b[0m \u001b[0;34m=\u001b[0m \u001b[0mreader2\u001b[0m\u001b[0;34m.\u001b[0m\u001b[0mread\u001b[0m\u001b[0;34m(\u001b[0m\u001b[0;34m)\u001b[0m\u001b[0;34m\u001b[0m\u001b[0m\n",
        "\u001b[0;32m/home/kofiko4/MiceDetector/keyboard_alike/reader.pyc\u001b[0m in \u001b[0;36minitialize\u001b[0;34m(self, inputDevice)\u001b[0m\n\u001b[1;32m     52\u001b[0m                 \u001b[0mself\u001b[0m\u001b[0;34m.\u001b[0m\u001b[0m_device\u001b[0m\u001b[0;34m.\u001b[0m\u001b[0mreset\u001b[0m\u001b[0;34m(\u001b[0m\u001b[0;34m)\u001b[0m\u001b[0;34m\u001b[0m\u001b[0m\n\u001b[1;32m     53\u001b[0m         \u001b[0;32mexcept\u001b[0m \u001b[0musb\u001b[0m\u001b[0;34m.\u001b[0m\u001b[0mcore\u001b[0m\u001b[0;34m.\u001b[0m\u001b[0mUSBError\u001b[0m \u001b[0;32mas\u001b[0m \u001b[0me\u001b[0m\u001b[0;34m:\u001b[0m\u001b[0;34m\u001b[0m\u001b[0m\n\u001b[0;32m---> 54\u001b[0;31m             \u001b[0;32mraise\u001b[0m \u001b[0mDeviceException\u001b[0m\u001b[0;34m(\u001b[0m\u001b[0;34m'Could not set configuration: %s'\u001b[0m \u001b[0;34m%\u001b[0m \u001b[0mstr\u001b[0m\u001b[0;34m(\u001b[0m\u001b[0me\u001b[0m\u001b[0;34m)\u001b[0m\u001b[0;34m)\u001b[0m\u001b[0;34m\u001b[0m\u001b[0m\n\u001b[0m\u001b[1;32m     55\u001b[0m \u001b[0;34m\u001b[0m\u001b[0m\n\u001b[1;32m     56\u001b[0m         \u001b[0mself\u001b[0m\u001b[0;34m.\u001b[0m\u001b[0m_endpoint\u001b[0m \u001b[0;34m=\u001b[0m \u001b[0mself\u001b[0m\u001b[0;34m.\u001b[0m\u001b[0m_device\u001b[0m\u001b[0;34m[\u001b[0m\u001b[0;36m0\u001b[0m\u001b[0;34m]\u001b[0m\u001b[0;34m[\u001b[0m\u001b[0;34m(\u001b[0m\u001b[0;36m0\u001b[0m\u001b[0;34m,\u001b[0m \u001b[0;36m0\u001b[0m\u001b[0;34m)\u001b[0m\u001b[0;34m]\u001b[0m\u001b[0;34m[\u001b[0m\u001b[0;36m0\u001b[0m\u001b[0;34m]\u001b[0m\u001b[0;34m\u001b[0m\u001b[0m\n",
        "\u001b[0;31mDeviceException\u001b[0m: Could not set configuration: [Errno None] Other error"
       ]
      }
     ],
     "prompt_number": 5
    }
   ],
   "metadata": {}
  }
 ]
}